{
 "cells": [
  {
   "cell_type": "markdown",
   "metadata": {},
   "source": [
    "# FUNCTIONS"
   ]
  },
  {
   "cell_type": "markdown",
   "metadata": {},
   "source": [
    "\n",
    "## SIMPLE "
   ]
  },
  {
   "cell_type": "code",
   "execution_count": 3,
   "metadata": {},
   "outputs": [],
   "source": [
    "def avg(a,b): #positional Arguments\n",
    "    print(\"avrage of numbers is\",((a+b)/2))"
   ]
  },
  {
   "cell_type": "code",
   "execution_count": 4,
   "metadata": {},
   "outputs": [
    {
     "name": "stdout",
     "output_type": "stream",
     "text": [
      "avrage of numbers is 15.0\n"
     ]
    }
   ],
   "source": [
    "avg(10,20)"
   ]
  },
  {
   "cell_type": "markdown",
   "metadata": {},
   "source": [
    "## Return "
   ]
  },
  {
   "cell_type": "code",
   "execution_count": 5,
   "metadata": {},
   "outputs": [],
   "source": [
    "def avg(a,b):\n",
    "    return ((a+b)/2)"
   ]
  },
  {
   "cell_type": "code",
   "execution_count": 6,
   "metadata": {},
   "outputs": [
    {
     "name": "stdout",
     "output_type": "stream",
     "text": [
      "7.5\n"
     ]
    }
   ],
   "source": [
    "print(avg(7,8))"
   ]
  },
  {
   "cell_type": "markdown",
   "metadata": {},
   "source": [
    "## Return multiple values"
   ]
  },
  {
   "cell_type": "code",
   "execution_count": 7,
   "metadata": {},
   "outputs": [],
   "source": [
    "def cal(a,b):\n",
    "    x=a+b;\n",
    "    y=a-b;\n",
    "    z=a*b\n",
    "    u=a//b\n",
    "    return (x,y,z,u)"
   ]
  },
  {
   "cell_type": "code",
   "execution_count": 8,
   "metadata": {},
   "outputs": [
    {
     "name": "stdout",
     "output_type": "stream",
     "text": [
      "(15, -1, 56, 0)\n"
     ]
    }
   ],
   "source": [
    "print(cal(7,8)) #returns a tuple"
   ]
  },
  {
   "cell_type": "code",
   "execution_count": 10,
   "metadata": {},
   "outputs": [
    {
     "name": "stdout",
     "output_type": "stream",
     "text": [
      "15 -1 56 0\n"
     ]
    }
   ],
   "source": [
    "a,b,c,d=cal(7,8) #tuple unpacking\n",
    "print(a,b,c,d)"
   ]
  },
  {
   "cell_type": "markdown",
   "metadata": {},
   "source": [
    "#### Iteration on results \n"
   ]
  },
  {
   "cell_type": "code",
   "execution_count": 12,
   "metadata": {},
   "outputs": [
    {
     "name": "stdout",
     "output_type": "stream",
     "text": [
      "7\n",
      "-1\n",
      "12\n",
      "0\n"
     ]
    }
   ],
   "source": [
    "\n",
    "result =cal(3,4)\n",
    "for res in result : print(res)"
   ]
  },
  {
   "cell_type": "markdown",
   "metadata": {},
   "source": [
    "# Local and Global Variables"
   ]
  },
  {
   "cell_type": "code",
   "execution_count": 15,
   "metadata": {},
   "outputs": [
    {
     "name": "stdout",
     "output_type": "stream",
     "text": [
      "123\n",
      "acces global variable  123\n"
     ]
    }
   ],
   "source": [
    "def disp():\n",
    "    local=456\n",
    "    print(\"acces global variable \",g)\n",
    "\n",
    "    \n",
    "print(g)\n",
    "disp()"
   ]
  },
  {
   "cell_type": "code",
   "execution_count": 16,
   "metadata": {},
   "outputs": [
    {
     "ename": "NameError",
     "evalue": "name 'local' is not defined",
     "output_type": "error",
     "traceback": [
      "\u001b[1;31m---------------------------------------------------------------------------\u001b[0m",
      "\u001b[1;31mNameError\u001b[0m                                 Traceback (most recent call last)",
      "\u001b[1;32m<ipython-input-16-6cb57d10509d>\u001b[0m in \u001b[0;36m<module>\u001b[1;34m\u001b[0m\n\u001b[1;32m----> 1\u001b[1;33m \u001b[0mprint\u001b[0m\u001b[1;33m(\u001b[0m\u001b[0mlocal\u001b[0m\u001b[1;33m)\u001b[0m\u001b[1;33m\u001b[0m\u001b[1;33m\u001b[0m\u001b[0m\n\u001b[0m",
      "\u001b[1;31mNameError\u001b[0m: name 'local' is not defined"
     ]
    }
   ],
   "source": [
    "print(local) #can't access"
   ]
  },
  {
   "cell_type": "code",
   "execution_count": 18,
   "metadata": {},
   "outputs": [
    {
     "name": "stdout",
     "output_type": "stream",
     "text": [
      "123\n",
      "acces global variable  456\n"
     ]
    }
   ],
   "source": [
    "g=123\n",
    "def disp():\n",
    "    g=456 #have precedence for function\n",
    "    print(\"acces local variable \",g)\n",
    "\n",
    "    \n",
    "print(g)\n",
    "disp() "
   ]
  },
  {
   "cell_type": "markdown",
   "metadata": {},
   "source": [
    "# Accessing global variable with same name"
   ]
  },
  {
   "cell_type": "code",
   "execution_count": 19,
   "metadata": {},
   "outputs": [
    {
     "name": "stdout",
     "output_type": "stream",
     "text": [
      "123\n",
      "acces local variable  456\n",
      "acces global variable  123\n"
     ]
    }
   ],
   "source": [
    "g=123\n",
    "def disp():\n",
    "    g=456 #have precedence for function\n",
    "    print(\"acces local variable \",g)\n",
    "    print(\"acces global variable \",globals()[\"g\"])\n",
    "\n",
    "    \n",
    "print(g)\n",
    "disp() "
   ]
  },
  {
   "cell_type": "markdown",
   "metadata": {},
   "source": [
    "# Assign function to a variable"
   ]
  },
  {
   "cell_type": "code",
   "execution_count": 21,
   "metadata": {},
   "outputs": [
    {
     "name": "stdout",
     "output_type": "stream",
     "text": [
      "acces local variable  456\n",
      "acces global variable  123\n"
     ]
    }
   ],
   "source": [
    "z=disp\n",
    "z()"
   ]
  },
  {
   "cell_type": "markdown",
   "metadata": {},
   "source": [
    "# Function inside a func"
   ]
  },
  {
   "cell_type": "code",
   "execution_count": 28,
   "metadata": {},
   "outputs": [],
   "source": [
    "def display(name):\n",
    "    def bwish ():\n",
    "        return(\"happy birthday \") #use only inside a func\n",
    "    res= bwish()+name\n",
    "    return res\n",
    "    "
   ]
  },
  {
   "cell_type": "code",
   "execution_count": 29,
   "metadata": {},
   "outputs": [
    {
     "data": {
      "text/plain": [
       "'happy birthday daniya'"
      ]
     },
     "execution_count": 29,
     "metadata": {},
     "output_type": "execute_result"
    }
   ],
   "source": [
    "display(\"daniya\")"
   ]
  },
  {
   "cell_type": "markdown",
   "metadata": {},
   "source": [
    "# Func as a parameter "
   ]
  },
  {
   "cell_type": "code",
   "execution_count": 39,
   "metadata": {},
   "outputs": [],
   "source": [
    "def display(func1,func2):\n",
    "    bio=\"name :\"+func1 + \"/n Age : \"+func2\n",
    "    return bio\n",
    "\n",
    "def askname():\n",
    "    name=str(input(\"whats your name? \"))\n",
    "    return name\n",
    "def askage():\n",
    "    age=str(input(\"whats your age? \"))\n",
    "    return age"
   ]
  },
  {
   "cell_type": "code",
   "execution_count": 40,
   "metadata": {},
   "outputs": [
    {
     "name": "stdout",
     "output_type": "stream",
     "text": [
      "whats your name? daniya\n",
      "whats your age? 20\n",
      "name :daniya/n Age : 20\n"
     ]
    }
   ],
   "source": [
    "print(display(askname(),askage()))"
   ]
  },
  {
   "cell_type": "markdown",
   "metadata": {},
   "source": [
    "# Returning function\n"
   ]
  },
  {
   "cell_type": "code",
   "execution_count": 41,
   "metadata": {},
   "outputs": [
    {
     "data": {
      "text/plain": [
       "'your total balance is 50 rps'"
      ]
     },
     "execution_count": 41,
     "metadata": {},
     "output_type": "execute_result"
    }
   ],
   "source": [
    "def mybalance():\n",
    "    def message():\n",
    "        return \"your total balance is 50 rps\"\n",
    "    return message\n",
    "mybal=mybalance()\n",
    "mybal()"
   ]
  },
  {
   "cell_type": "markdown",
   "metadata": {},
   "source": [
    "###  you can Pass any thing as para"
   ]
  },
  {
   "cell_type": "markdown",
   "metadata": {},
   "source": [
    "# Recursion "
   ]
  },
  {
   "cell_type": "code",
   "execution_count": 4,
   "metadata": {},
   "outputs": [],
   "source": [
    "def fact(n):\n",
    "    if n==0:\n",
    "        return 1\n",
    "    else:\n",
    "        return n*fac(n-1)"
   ]
  },
  {
   "cell_type": "code",
   "execution_count": 5,
   "metadata": {},
   "outputs": [
    {
     "data": {
      "text/plain": [
       "6"
      ]
     },
     "execution_count": 5,
     "metadata": {},
     "output_type": "execute_result"
    }
   ],
   "source": [
    "fact(3)"
   ]
  },
  {
   "cell_type": "raw",
   "metadata": {},
   "source": [
    "Traversing tresss , binary trees and tower of hanoy problem can be solved using recursion"
   ]
  },
  {
   "cell_type": "markdown",
   "metadata": {},
   "source": [
    "# Keyword Arguments"
   ]
  },
  {
   "cell_type": "code",
   "execution_count": 9,
   "metadata": {},
   "outputs": [],
   "source": [
    "def avg(a,b):\n",
    "    print(a,b)\n",
    "    print(\"avrage of numbers is\",((a+b)/2))"
   ]
  },
  {
   "cell_type": "code",
   "execution_count": 10,
   "metadata": {},
   "outputs": [
    {
     "name": "stdout",
     "output_type": "stream",
     "text": [
      "20 10\n",
      "avrage of numbers is 15.0\n"
     ]
    }
   ],
   "source": [
    "avg(b=10,a=20)"
   ]
  },
  {
   "cell_type": "markdown",
   "metadata": {},
   "source": [
    "# Default arrguments"
   ]
  },
  {
   "cell_type": "code",
   "execution_count": 11,
   "metadata": {},
   "outputs": [],
   "source": [
    "def avg(b=10,a=20):\n",
    "    print(a,b)\n",
    "    print(\"avrage of numbers is\",((a+b)/2))"
   ]
  },
  {
   "cell_type": "code",
   "execution_count": 12,
   "metadata": {},
   "outputs": [
    {
     "name": "stdout",
     "output_type": "stream",
     "text": [
      "20 10\n",
      "avrage of numbers is 15.0\n"
     ]
    }
   ],
   "source": [
    "avg()"
   ]
  },
  {
   "cell_type": "code",
   "execution_count": 13,
   "metadata": {},
   "outputs": [
    {
     "name": "stdout",
     "output_type": "stream",
     "text": [
      "20 45\n",
      "avrage of numbers is 32.5\n"
     ]
    }
   ],
   "source": [
    "avg(b=45)"
   ]
  },
  {
   "cell_type": "code",
   "execution_count": 23,
   "metadata": {},
   "outputs": [],
   "source": [
    "def name(first ,middle=\"\",last=\"\" ):\n",
    "    print(f\"your name is {first} {middle} {last} \")"
   ]
  },
  {
   "cell_type": "code",
   "execution_count": 24,
   "metadata": {},
   "outputs": [
    {
     "name": "stdout",
     "output_type": "stream",
     "text": [
      "your name is DANIYA NIAZI  \n"
     ]
    }
   ],
   "source": [
    "name(\"DANIYA\" ,\"NIAZI\",)"
   ]
  },
  {
   "cell_type": "code",
   "execution_count": 25,
   "metadata": {},
   "outputs": [
    {
     "name": "stdout",
     "output_type": "stream",
     "text": [
      "your name is MS DANIYA NIAZI \n"
     ]
    }
   ],
   "source": [
    "name(\"MS\", \"DANIYA\" ,\"NIAZI\",)"
   ]
  },
  {
   "cell_type": "code",
   "execution_count": 26,
   "metadata": {},
   "outputs": [
    {
     "name": "stdout",
     "output_type": "stream",
     "text": [
      "Your pizza of size large with flavour cheese and toppings ('olives,chillies,sauces',) is ready\n"
     ]
    }
   ],
   "source": [
    "def pizza (size,flavor,*topping):\n",
    "    print(f\"Your pizza of size {size} with flavour {flavor} and toppings {topping} is ready\")\n",
    "    \n",
    "pizza(\"large\",\"cheese\",(\"olives,chillies,sauces\"))"
   ]
  },
  {
   "cell_type": "markdown",
   "metadata": {},
   "source": [
    "# Task"
   ]
  },
  {
   "cell_type": "markdown",
   "metadata": {},
   "source": [
    "#### Generate a student card"
   ]
  },
  {
   "cell_type": "code",
   "execution_count": 28,
   "metadata": {},
   "outputs": [
    {
     "name": "stdout",
     "output_type": "stream",
     "text": [
      "\n",
      "    -------------------------------\n",
      "                STUDENT\n",
      "                  BIO\n",
      "    -------------------------------\n",
      "        ID = 1\n",
      "        Name = Daniya\n",
      "        Father Name = Abdullah niazi                                                                                                         \n",
      "        Course = AI\n",
      "        Batch = Batch1\n",
      "    -------------------------------\n",
      "    \n"
     ]
    }
   ],
   "source": [
    "# Generate card for PIAIC Students\n",
    "def id_card(sid, sname, fname, course, Batch):\n",
    "    text = \"\"\"\n",
    "    -------------------------------\n",
    "                STUDENT\n",
    "                  BIO\n",
    "    -------------------------------\n",
    "        ID = {}\n",
    "        Name = {}\n",
    "        Father Name = {}                                                                                                         \n",
    "        Course = {}\n",
    "        Batch = {}\n",
    "    -------------------------------\n",
    "    \"\"\".format(sid, sname, fname, course, Batch)\n",
    "    print(text)\n",
    "\n",
    "id_card(1, \"Daniya\", \"Abdullah niazi\", \"AI\", \"Batch1\")"
   ]
  },
  {
   "cell_type": "code",
   "execution_count": 43,
   "metadata": {},
   "outputs": [],
   "source": [
    "data = [[1, \"Ishra Hussain\", \"Abdul Hussain\", \"AI\", \"Batch1\"],\\\n",
    "        [2, \"Bushra Hashmi\", \"Jamil Hashmi\", \"IOT\", \"Batch1\"],\\\n",
    "        [3, \"Muhammad Ammad\", \"Muhammad Ramzan\", \"IT\", \"Batch2\"],\\\n",
    "        [4, \"Sami Ullah\", \"Abdul Hussain\", \"BSEE\", \"Batch1\"]]"
   ]
  },
  {
   "cell_type": "code",
   "execution_count": 46,
   "metadata": {},
   "outputs": [
    {
     "name": "stdout",
     "output_type": "stream",
     "text": [
      "\n",
      "    -------------------------------\n",
      "                STUDENT\n",
      "                  BIO\n",
      "    -------------------------------\n",
      "        ID = 1\n",
      "        Name = Ishra Hussain\n",
      "        Father Name = Abdul Hussain                                                                                                         \n",
      "        Course = AI\n",
      "        Batch = Batch1\n",
      "    -------------------------------\n",
      "    \n",
      "\n",
      "    -------------------------------\n",
      "                STUDENT\n",
      "                  BIO\n",
      "    -------------------------------\n",
      "        ID = 2\n",
      "        Name = Bushra Hashmi\n",
      "        Father Name = Jamil Hashmi                                                                                                         \n",
      "        Course = IOT\n",
      "        Batch = Batch1\n",
      "    -------------------------------\n",
      "    \n",
      "\n",
      "    -------------------------------\n",
      "                STUDENT\n",
      "                  BIO\n",
      "    -------------------------------\n",
      "        ID = 3\n",
      "        Name = Muhammad Ammad\n",
      "        Father Name = Muhammad Ramzan                                                                                                         \n",
      "        Course = IT\n",
      "        Batch = Batch2\n",
      "    -------------------------------\n",
      "    \n",
      "\n",
      "    -------------------------------\n",
      "                STUDENT\n",
      "                  BIO\n",
      "    -------------------------------\n",
      "        ID = 4\n",
      "        Name = Sami Ullah\n",
      "        Father Name = Abdul Hussain                                                                                                         \n",
      "        Course = BSEE\n",
      "        Batch = Batch1\n",
      "    -------------------------------\n",
      "    \n"
     ]
    }
   ],
   "source": [
    "for v in data: # one way of passing values from list\n",
    "    id_card(v[0],v[1],v[2],v[3],v[4])"
   ]
  },
  {
   "cell_type": "code",
   "execution_count": 47,
   "metadata": {},
   "outputs": [
    {
     "name": "stdout",
     "output_type": "stream",
     "text": [
      "\n",
      "    -------------------------------\n",
      "                STUDENT\n",
      "                  BIO\n",
      "    -------------------------------\n",
      "        ID = 1\n",
      "        Name = Ishra Hussain\n",
      "        Father Name = Abdul Hussain                                                                                                         \n",
      "        Course = AI\n",
      "        Batch = Batch1\n",
      "    -------------------------------\n",
      "    \n",
      "\n",
      "    -------------------------------\n",
      "                STUDENT\n",
      "                  BIO\n",
      "    -------------------------------\n",
      "        ID = 2\n",
      "        Name = Bushra Hashmi\n",
      "        Father Name = Jamil Hashmi                                                                                                         \n",
      "        Course = IOT\n",
      "        Batch = Batch1\n",
      "    -------------------------------\n",
      "    \n",
      "\n",
      "    -------------------------------\n",
      "                STUDENT\n",
      "                  BIO\n",
      "    -------------------------------\n",
      "        ID = 3\n",
      "        Name = Muhammad Ammad\n",
      "        Father Name = Muhammad Ramzan                                                                                                         \n",
      "        Course = IT\n",
      "        Batch = Batch2\n",
      "    -------------------------------\n",
      "    \n",
      "\n",
      "    -------------------------------\n",
      "                STUDENT\n",
      "                  BIO\n",
      "    -------------------------------\n",
      "        ID = 4\n",
      "        Name = Sami Ullah\n",
      "        Father Name = Abdul Hussain                                                                                                         \n",
      "        Course = BSEE\n",
      "        Batch = Batch1\n",
      "    -------------------------------\n",
      "    \n"
     ]
    }
   ],
   "source": [
    "for v in data:\n",
    "    id_card(*v)"
   ]
  },
  {
   "cell_type": "code",
   "execution_count": null,
   "metadata": {},
   "outputs": [],
   "source": []
  }
 ],
 "metadata": {
  "kernelspec": {
   "display_name": "Python 3",
   "language": "python",
   "name": "python3"
  },
  "language_info": {
   "codemirror_mode": {
    "name": "ipython",
    "version": 3
   },
   "file_extension": ".py",
   "mimetype": "text/x-python",
   "name": "python",
   "nbconvert_exporter": "python",
   "pygments_lexer": "ipython3",
   "version": "3.7.4"
  }
 },
 "nbformat": 4,
 "nbformat_minor": 2
}
