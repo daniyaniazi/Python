{
 "cells": [
  {
   "cell_type": "markdown",
   "metadata": {},
   "source": [
    "## FILE HANDLING\n",
    "- Python support binary or text files\n"
   ]
  },
  {
   "cell_type": "markdown",
   "metadata": {},
   "source": [
    "#### Curd operation\n",
    "- reading\n",
    "- creating \n",
    "- updating \n",
    "- deletion\n"
   ]
  },
  {
   "cell_type": "markdown",
   "metadata": {},
   "source": [
    "open(filename,mode)\n",
    "- r= read mode : default value ,opens a file for reading , error if not exist\n",
    "- a= append mode :open a file for appending , creates a file if not exist\n",
    "- w= write mode : open a file for writing , creates a file if not exist\n",
    "- x = Create : creates the specified file , return erroe if file exist"
   ]
  },
  {
   "cell_type": "markdown",
   "metadata": {},
   "source": [
    "# Reading a file"
   ]
  },
  {
   "cell_type": "code",
   "execution_count": 2,
   "metadata": {},
   "outputs": [],
   "source": [
    "file=open(\"filehandling.txt\",\"w\")\n",
    "file.close()"
   ]
  },
  {
   "cell_type": "code",
   "execution_count": 6,
   "metadata": {},
   "outputs": [
    {
     "name": "stdout",
     "output_type": "stream",
     "text": [
      "demo text\n"
     ]
    }
   ],
   "source": [
    "file=open(\"filehandling.txt\",\"r\")\n",
    "print(file.read())\n",
    "file.close()"
   ]
  },
  {
   "cell_type": "code",
   "execution_count": 7,
   "metadata": {},
   "outputs": [
    {
     "name": "stdout",
     "output_type": "stream",
     "text": [
      "demo \n"
     ]
    }
   ],
   "source": [
    "file=open(\"filehandling.txt\",\"r\")\n",
    "print(file.read(5)) #read only first 5 characters\n",
    "file.close()"
   ]
  },
  {
   "cell_type": "markdown",
   "metadata": {},
   "source": [
    "###### readline"
   ]
  },
  {
   "cell_type": "code",
   "execution_count": 17,
   "metadata": {},
   "outputs": [
    {
     "name": "stdout",
     "output_type": "stream",
     "text": [
      "overwite the content of filewriting with w mode"
     ]
    }
   ],
   "source": [
    "file=open(\"filehandling.txt\",\"r\")\n",
    "print(file.readline())\n",
    "file.close()"
   ]
  },
  {
   "cell_type": "markdown",
   "metadata": {},
   "source": [
    "###### readlines"
   ]
  },
  {
   "cell_type": "code",
   "execution_count": 10,
   "metadata": {},
   "outputs": [
    {
     "name": "stdout",
     "output_type": "stream",
     "text": [
      "['demo text\\n', 'line1 : lorem .....\\n', 'line2 : dummy text for demo\\n', 'line3 : learning file handling\\n', 'bye']\n"
     ]
    }
   ],
   "source": [
    "file=open(\"filehandling.txt\",\"r\")\n",
    "print(file.readlines())\n",
    "file.close()"
   ]
  },
  {
   "cell_type": "markdown",
   "metadata": {},
   "source": [
    "### Looping over a File Object"
   ]
  },
  {
   "cell_type": "code",
   "execution_count": 11,
   "metadata": {},
   "outputs": [
    {
     "name": "stdout",
     "output_type": "stream",
     "text": [
      "['line1 : lorem .....\\n', 'line2 : dummy text for demo\\n', 'line3 : learning file handling\\n', 'bye']\n"
     ]
    }
   ],
   "source": [
    "file=open(\"filehandling.txt\",\"r\")\n",
    "for lines in file:\n",
    "        print(file.readlines())\n",
    "    \n",
    "file.close()\n"
   ]
  },
  {
   "cell_type": "markdown",
   "metadata": {},
   "source": [
    " # WRITE \n",
    " - A -will append at the end of file\n",
    " - w -will overwrite existing content"
   ]
  },
  {
   "cell_type": "code",
   "execution_count": 12,
   "metadata": {},
   "outputs": [],
   "source": [
    "file=open(\"filehandling.txt\",\"w\")\n",
    "file.write(\"overwite the content of file\")\n",
    "file.write(\"writing with w mode\")\n",
    "file.close()\n"
   ]
  },
  {
   "cell_type": "code",
   "execution_count": 13,
   "metadata": {},
   "outputs": [],
   "source": [
    "file=open(\"filehandling1.txt\",\"x\")\n",
    "file.write(\"create a new file\")\n",
    "\n",
    "file.close()\n"
   ]
  },
  {
   "cell_type": "markdown",
   "metadata": {},
   "source": [
    "# DELETING A FILE\n",
    "- BY OS MODULE"
   ]
  },
  {
   "cell_type": "markdown",
   "metadata": {},
   "source": [
    "### TELL METHOD\n",
    "- TELLS THE CURSOR POSITION"
   ]
  },
  {
   "cell_type": "code",
   "execution_count": 14,
   "metadata": {},
   "outputs": [
    {
     "name": "stdout",
     "output_type": "stream",
     "text": [
      "cursor position 0\n",
      "create a new file\n",
      "cursor position 17\n"
     ]
    }
   ],
   "source": [
    "file=open(\"filehandling1.txt\")\n",
    "print(f\"cursor position {file.tell()}\")\n",
    "print(file.read())\n",
    "print(f\"cursor position {file.tell()}\")"
   ]
  },
  {
   "cell_type": "markdown",
   "metadata": {},
   "source": [
    "### SEEK METHOD\n",
    "- TO CHANGE CURSOR POSITION"
   ]
  },
  {
   "cell_type": "code",
   "execution_count": 21,
   "metadata": {},
   "outputs": [
    {
     "name": "stdout",
     "output_type": "stream",
     "text": [
      "cursor position 0\n",
      "create a new file\n",
      "cursor position 17\n",
      "cursor position 0\n",
      "create a new file\n",
      "cursor position 17\n"
     ]
    }
   ],
   "source": [
    "file=open(\"filehandling1.txt\")\n",
    "print(f\"cursor position {file.tell()}\")\n",
    "\n",
    "print(file.read())\n",
    "print(f\"cursor position {file.tell()}\")\n",
    "\n",
    "\n",
    "file.seek(0)\n",
    "print(f\"cursor position {file.tell()}\")\n",
    "print(file.read())\n",
    "print(f\"cursor position {file.tell()}\")\n",
    "file.close()"
   ]
  },
  {
   "cell_type": "code",
   "execution_count": 22,
   "metadata": {},
   "outputs": [
    {
     "name": "stdout",
     "output_type": "stream",
     "text": [
      "filehandling1.txt\n"
     ]
    }
   ],
   "source": [
    "print(file.name)"
   ]
  },
  {
   "cell_type": "code",
   "execution_count": 23,
   "metadata": {},
   "outputs": [
    {
     "name": "stdout",
     "output_type": "stream",
     "text": [
      "create a new file\n",
      "line 1\n",
      "line 2\n",
      "line 3"
     ]
    }
   ],
   "source": [
    "file=open(\"filehandling1.txt\")\n",
    "for  line in file:\n",
    "    print(line,end=\"\")"
   ]
  },
  {
   "cell_type": "code",
   "execution_count": null,
   "metadata": {},
   "outputs": [],
   "source": []
  }
 ],
 "metadata": {
  "kernelspec": {
   "display_name": "Python 3",
   "language": "python",
   "name": "python3"
  },
  "language_info": {
   "codemirror_mode": {
    "name": "ipython",
    "version": 3
   },
   "file_extension": ".py",
   "mimetype": "text/x-python",
   "name": "python",
   "nbconvert_exporter": "python",
   "pygments_lexer": "ipython3",
   "version": "3.7.4"
  }
 },
 "nbformat": 4,
 "nbformat_minor": 2
}
