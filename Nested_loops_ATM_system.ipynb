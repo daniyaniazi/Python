{
 "cells": [
  {
   "cell_type": "markdown",
   "metadata": {},
   "source": [
    "#### NESTED LOOP\n",
    "ATM PASWORD MACHINE"
   ]
  },
  {
   "cell_type": "code",
   "execution_count": 2,
   "metadata": {},
   "outputs": [
    {
     "name": "stdout",
     "output_type": "stream",
     "text": [
      "Welcome to Iron Bank Of Bravoos ATM\n",
      "please enter 4 digit pin : 534\n",
      "Incorrrect password\n",
      "please enter 4 digit pin : 4354\n",
      "Incorrrect password\n",
      "please enter 4 digit pin : 435\n",
      "Incorrrect password\n",
      "/n NO MORE TRIES\n"
     ]
    }
   ],
   "source": [
    "print(\"Welcome to Iron Bank Of Bravoos ATM\")\n",
    "restart=(\"y\")\n",
    "chances= 3\n",
    "balance= 67.14\n",
    "\n",
    "while chances >=0:\n",
    "    pin= int(input(\"please enter 4 digit pin : \"))\n",
    "    \n",
    "    \n",
    "    if pin==(1234):\n",
    "        print (\"you entered correct pin\\n \")  \n",
    "        while restart not in (\"n\",\"NO\",\"N\",\"no\"):\n",
    "            \n",
    "                \n",
    "            print(\"please enter 1 for your balance\\n \")\n",
    "            print(\"please enter 2 to make a withdraw\\n \")\n",
    "            print(\"please enter 3 to pay in\\n \")\n",
    "            print(\"please enter 4 to return card\\n \")\n",
    "            option = int(input(\"make your choice :\"))\n",
    "            if option==1:\n",
    "                print (\"you balance is \",balance,\"\\n\")\n",
    "                restart=input(\" would you like to go back ? \")\n",
    "                if restart in (\"n\",\"no\",\"N\",\"NO\"):\n",
    "                    print(\"THANKYOU\")\n",
    "                    break \n",
    "                    \n",
    "            elif option==2:\n",
    "                withdrawl=float(input(\"how much would you like to withdrwal /n 10$ / $20 / $40 / $60 / $80 / $100\"))\n",
    "                if withdrawl in [10,20,40,80,100]:\n",
    "                    balance= balance - withdrawl\n",
    "                    print( f'/n Current balanec now : {balance}')\n",
    "                    restart= input(\"would you like to go back ?\" )\n",
    "                    if restart in (\"n\",\"no\",\"No\",\"N\"):\n",
    "                        print(\"Thank you\")\n",
    "                        break\n",
    "                elif withdrawl != [10,20,40,80,100]:\n",
    "                    print(\"Invalid Amount please retry /n \")\n",
    "                    restart=(\"y\")\n",
    "                elif withdrawl ==1:\n",
    "                     withdrawl=float(input(\"Enter desired ammount please\"))\n",
    "                        \n",
    "            elif option==3:\n",
    "                pay_in=float(input(\"How much would you like to pay in \"))\n",
    "                balance=balance+pay_in\n",
    "                print( f\"/n Current balanec now : {balance} \" )\n",
    "                restart= input(\"would you like to go back ?\" )\n",
    "                if restart in (\"n\",\"no\",\"N\",\"NO\"):\n",
    "                    print(\"THANKYOU\")\n",
    "                    break \n",
    "            elif option==4:\n",
    "                \n",
    "                print(\"please wait your card is returning ... /n \")\n",
    "                print(\"thankyou for your service \")\n",
    "            else :\n",
    "                print( \"Please enter a correct number /n\")\n",
    "                restart=(\"y\")\n",
    "    elif pin!=(\"1234\"):\n",
    "        print( \"Incorrrect password\")\n",
    "        chances =chances-1\n",
    "        if chances ==0 :\n",
    "            print(\"/n NO MORE TRIES\")\n",
    "            break\n",
    "            \n",
    "                \n",
    "                    \n",
    "                "
   ]
  },
  {
   "cell_type": "code",
   "execution_count": null,
   "metadata": {},
   "outputs": [],
   "source": []
  },
  {
   "cell_type": "code",
   "execution_count": null,
   "metadata": {},
   "outputs": [],
   "source": []
  },
  {
   "cell_type": "code",
   "execution_count": null,
   "metadata": {},
   "outputs": [],
   "source": []
  },
  {
   "cell_type": "code",
   "execution_count": null,
   "metadata": {},
   "outputs": [],
   "source": []
  }
 ],
 "metadata": {
  "kernelspec": {
   "display_name": "Python 3",
   "language": "python",
   "name": "python3"
  },
  "language_info": {
   "codemirror_mode": {
    "name": "ipython",
    "version": 3
   },
   "file_extension": ".py",
   "mimetype": "text/x-python",
   "name": "python",
   "nbconvert_exporter": "python",
   "pygments_lexer": "ipython3",
   "version": "3.7.4"
  }
 },
 "nbformat": 4,
 "nbformat_minor": 2
}
