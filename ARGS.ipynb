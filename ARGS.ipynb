{
 "cells": [
  {
   "cell_type": "markdown",
   "metadata": {},
   "source": [
    "#  *ARGS"
   ]
  },
  {
   "cell_type": "code",
   "execution_count": 1,
   "metadata": {},
   "outputs": [
    {
     "data": {
      "text/plain": [
       "9"
      ]
     },
     "execution_count": 1,
     "metadata": {},
     "output_type": "execute_result"
    }
   ],
   "source": [
    "def total(a,b):\n",
    "    return a+b\n",
    "total(4,5)"
   ]
  },
  {
   "cell_type": "code",
   "execution_count": 7,
   "metadata": {},
   "outputs": [
    {
     "name": "stdout",
     "output_type": "stream",
     "text": [
      "(4, 5, 3, 4, 5)\n",
      "<class 'tuple'>\n"
     ]
    }
   ],
   "source": [
    "def alltotal(*args):\n",
    "    print(args)  #tuple\n",
    "    print(type(args))\n",
    "    \n",
    "    \n",
    "alltotal(4,5,3,4,5,)"
   ]
  },
  {
   "cell_type": "code",
   "execution_count": 8,
   "metadata": {},
   "outputs": [
    {
     "data": {
      "text/plain": [
       "21"
      ]
     },
     "execution_count": 8,
     "metadata": {},
     "output_type": "execute_result"
    }
   ],
   "source": [
    "def alltotal(*args):\n",
    "    total=0\n",
    "    for num in args:\n",
    "        total+=num\n",
    "    return total\n",
    "    \n",
    "   \n",
    "    \n",
    "    \n",
    "alltotal(4,5,3,4,5,)"
   ]
  },
  {
   "cell_type": "markdown",
   "metadata": {},
   "source": [
    "### Arg with parameter"
   ]
  },
  {
   "cell_type": "code",
   "execution_count": 9,
   "metadata": {},
   "outputs": [
    {
     "name": "stdout",
     "output_type": "stream",
     "text": [
      "1\n",
      "(4, 5, 6, 3)\n"
     ]
    }
   ],
   "source": [
    "def para_arg(num,*args):\n",
    "    print(num)\n",
    "    print(args)\n",
    "    \n",
    "para_arg(1,4,5,6,3) #1st argument is not included in args"
   ]
  },
  {
   "cell_type": "code",
   "execution_count": 10,
   "metadata": {},
   "outputs": [
    {
     "name": "stdout",
     "output_type": "stream",
     "text": [
      "1\n",
      "()\n"
     ]
    }
   ],
   "source": [
    "para_arg(1) #empty args"
   ]
  },
  {
   "cell_type": "markdown",
   "metadata": {},
   "source": [
    "### List as arg\n",
    "arg=([])\n",
    "- we have to unpack list"
   ]
  },
  {
   "cell_type": "code",
   "execution_count": 14,
   "metadata": {},
   "outputs": [
    {
     "name": "stdout",
     "output_type": "stream",
     "text": [
      "60\n"
     ]
    }
   ],
   "source": [
    "num=[1,3,4,5]\n",
    "\n",
    "def mult(*args):\n",
    "    multi=1\n",
    "    for i in args:\n",
    "        multi*=i\n",
    "    return multi\n",
    "\n",
    "\n",
    "print(mult(*num))"
   ]
  },
  {
   "cell_type": "markdown",
   "metadata": {},
   "source": [
    "## Task"
   ]
  },
  {
   "cell_type": "code",
   "execution_count": 15,
   "metadata": {},
   "outputs": [],
   "source": [
    "#calculate user defined power od user defined numbers"
   ]
  },
  {
   "cell_type": "code",
   "execution_count": 17,
   "metadata": {},
   "outputs": [
    {
     "name": "stdout",
     "output_type": "stream",
     "text": [
      "[1, 8, 27, 64, 125, 216]\n"
     ]
    }
   ],
   "source": [
    "def to_power(powernum , *args):\n",
    "    if args: #if args are givens\n",
    "        return [i**powernum for i in args]\n",
    "    else:\n",
    "        return \"YOU DIDN'T PASS ARGUMRNTS\"\n",
    "    \n",
    "nums=[1,2,3,4,5,6]\n",
    "print(to_power(3,*nums))"
   ]
  },
  {
   "cell_type": "code",
   "execution_count": null,
   "metadata": {},
   "outputs": [],
   "source": []
  }
 ],
 "metadata": {
  "kernelspec": {
   "display_name": "Python 3",
   "language": "python",
   "name": "python3"
  },
  "language_info": {
   "codemirror_mode": {
    "name": "ipython",
    "version": 3
   },
   "file_extension": ".py",
   "mimetype": "text/x-python",
   "name": "python",
   "nbconvert_exporter": "python",
   "pygments_lexer": "ipython3",
   "version": "3.7.4"
  }
 },
 "nbformat": 4,
 "nbformat_minor": 2
}
