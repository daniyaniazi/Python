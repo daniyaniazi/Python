{
 "cells": [
  {
   "cell_type": "markdown",
   "metadata": {},
   "source": [
    "# CLASSES AND OBJECTS"
   ]
  },
  {
   "cell_type": "code",
   "execution_count": 1,
   "metadata": {},
   "outputs": [],
   "source": [
    "class car():\n",
    "    def __init__(self,modelname,price):#constructor initiliazed the value of variable # self is the refrences to our objects\n",
    "        self.modelname=modelname\n",
    "        self.price=price #instance variable\n",
    "    \n",
    "    def priceincrease(self):\n",
    "        self.price=(self.price*100)\n",
    "    \n",
    "\n",
    "\n",
    "honda=car(\"city\",1000)\n",
    "tata=car(\"bold\",3000)\n"
   ]
  },
  {
   "cell_type": "code",
   "execution_count": 2,
   "metadata": {},
   "outputs": [
    {
     "name": "stdout",
     "output_type": "stream",
     "text": [
      "city\n"
     ]
    }
   ],
   "source": [
    "print(honda.modelname)"
   ]
  },
  {
   "cell_type": "code",
   "execution_count": 3,
   "metadata": {},
   "outputs": [
    {
     "name": "stdout",
     "output_type": "stream",
     "text": [
      "{'modelname': 'city', 'price': 1000}\n"
     ]
    }
   ],
   "source": [
    "print(honda.__dict__)"
   ]
  },
  {
   "cell_type": "code",
   "execution_count": 4,
   "metadata": {},
   "outputs": [
    {
     "name": "stdout",
     "output_type": "stream",
     "text": [
      "1000\n"
     ]
    }
   ],
   "source": [
    "print(honda.price)"
   ]
  },
  {
   "cell_type": "code",
   "execution_count": 5,
   "metadata": {},
   "outputs": [],
   "source": [
    "honda.priceincrease()"
   ]
  },
  {
   "cell_type": "code",
   "execution_count": 6,
   "metadata": {},
   "outputs": [
    {
     "name": "stdout",
     "output_type": "stream",
     "text": [
      "100000\n"
     ]
    }
   ],
   "source": [
    "print(honda.price)"
   ]
  },
  {
   "cell_type": "markdown",
   "metadata": {},
   "source": [
    "#### Class variable\n",
    "shared by every object of a class"
   ]
  },
  {
   "cell_type": "code",
   "execution_count": 7,
   "metadata": {},
   "outputs": [],
   "source": [
    "class circle():\n",
    "    pi=3.14\n",
    "    def __init__(self,radius):\n",
    "        \n",
    "        self.radius=radius\n",
    "        \n",
    "    def cal_circum(self):\n",
    "        print( 2*circle.pi*self.radius) #instant methods\n",
    "    \n",
    "    \n",
    "        \n",
    "        "
   ]
  },
  {
   "cell_type": "code",
   "execution_count": 8,
   "metadata": {},
   "outputs": [],
   "source": [
    "c1=circle(3)"
   ]
  },
  {
   "cell_type": "code",
   "execution_count": 9,
   "metadata": {},
   "outputs": [
    {
     "name": "stdout",
     "output_type": "stream",
     "text": [
      "18.84\n",
      "None\n"
     ]
    }
   ],
   "source": [
    "print(c1.cal_circum())"
   ]
  },
  {
   "cell_type": "code",
   "execution_count": 10,
   "metadata": {},
   "outputs": [],
   "source": [
    "c3=circle(8)"
   ]
  },
  {
   "cell_type": "code",
   "execution_count": 11,
   "metadata": {},
   "outputs": [
    {
     "name": "stdout",
     "output_type": "stream",
     "text": [
      "50.24\n",
      "None\n"
     ]
    }
   ],
   "source": [
    "print(c3.cal_circum())"
   ]
  },
  {
   "cell_type": "markdown",
   "metadata": {},
   "source": [
    "#### EX"
   ]
  },
  {
   "cell_type": "code",
   "execution_count": 12,
   "metadata": {},
   "outputs": [],
   "source": [
    "class person():\n",
    "    count_person=0\n",
    "    def __init__(self,name,age):\n",
    "        person.count_person+=1\n",
    "        self.name=name\n",
    "        self.age=age\n",
    "        \n",
    "        \n",
    "p1=person(\"daniya\",20)\n",
    "p2=person(\"fariha\",21)\n",
    "p3=person(\"rabiya\",12)\n",
    "\n",
    "\n",
    "        \n",
    "         "
   ]
  },
  {
   "cell_type": "code",
   "execution_count": 13,
   "metadata": {},
   "outputs": [
    {
     "name": "stdout",
     "output_type": "stream",
     "text": [
      "3\n"
     ]
    }
   ],
   "source": [
    "print(person.count_person)"
   ]
  },
  {
   "cell_type": "markdown",
   "metadata": {},
   "source": [
    "### CLASS METHODS"
   ]
  },
  {
   "cell_type": "code",
   "execution_count": 14,
   "metadata": {},
   "outputs": [],
   "source": [
    "class person():\n",
    "    count_person=0\n",
    "    def __init__(self,name,age):\n",
    "        person.count_person+=1\n",
    "        self.name=name\n",
    "        self.age=age\n",
    "        \n",
    "    @classmethod\n",
    "    def count_inst(person):\n",
    "        return (f\" you have created {person.count_person} instances\") "
   ]
  },
  {
   "cell_type": "code",
   "execution_count": 15,
   "metadata": {},
   "outputs": [
    {
     "name": "stdout",
     "output_type": "stream",
     "text": [
      " you have created 0 instances\n"
     ]
    }
   ],
   "source": [
    "print(person.count_inst())"
   ]
  },
  {
   "cell_type": "code",
   "execution_count": 16,
   "metadata": {},
   "outputs": [],
   "source": [
    "p1=person(\"daniya\",20)\n",
    "p2=person(\"fariha\",21)\n",
    "p3=person(\"rabiya\",12)"
   ]
  },
  {
   "cell_type": "code",
   "execution_count": 17,
   "metadata": {},
   "outputs": [
    {
     "name": "stdout",
     "output_type": "stream",
     "text": [
      " you have created 3 instances\n"
     ]
    }
   ],
   "source": [
    "print(person.count_inst())"
   ]
  },
  {
   "cell_type": "markdown",
   "metadata": {},
   "source": [
    "# INHERITANCE"
   ]
  },
  {
   "cell_type": "code",
   "execution_count": 18,
   "metadata": {},
   "outputs": [],
   "source": [
    "class person():\n",
    "   \n",
    "    def __init__(self,name,age):\n",
    "       \n",
    "        self.name=name\n",
    "        self.age=age\n",
    "        \n",
    "    def speak(self, words = \"\"):\n",
    "        print(words, \"!!!\")\n",
    "        \n",
    "    def sleep(self, hours = 8):\n",
    "        print(hours)\n",
    "        \n",
    "  "
   ]
  },
  {
   "cell_type": "code",
   "execution_count": 19,
   "metadata": {},
   "outputs": [],
   "source": [
    "class Artist(person):\n",
    "    def __init__(self,name,age,level):\n",
    "#         super.__init__(name,age)\n",
    "        self.level=level\n",
    "        self.name=name\n",
    "        self.age=age\n",
    "        \n",
    "    def draw(self,draw_obj=\"\"):\n",
    "         print(f\"Your {draw_obj} has been drawed\")\n",
    "        "
   ]
  },
  {
   "cell_type": "code",
   "execution_count": 20,
   "metadata": {},
   "outputs": [],
   "source": [
    "artist_1=Artist(\"daniya\",20,3 )"
   ]
  },
  {
   "cell_type": "code",
   "execution_count": 21,
   "metadata": {},
   "outputs": [
    {
     "name": "stdout",
     "output_type": "stream",
     "text": [
      "Hi I am an Artist !!!\n"
     ]
    }
   ],
   "source": [
    "artist_1.speak(\"Hi I am an Artist\")"
   ]
  },
  {
   "cell_type": "code",
   "execution_count": 22,
   "metadata": {},
   "outputs": [
    {
     "name": "stdout",
     "output_type": "stream",
     "text": [
      "Your circle has been drawed\n"
     ]
    }
   ],
   "source": [
    "artist_1.draw(\"circle\")"
   ]
  },
  {
   "cell_type": "code",
   "execution_count": 23,
   "metadata": {},
   "outputs": [],
   "source": [
    "class Artist(person):\n",
    "    def __init__(self,name,age,level):\n",
    "        person.__init__(self,name,age)\n",
    "        self.level=level\n",
    "#         self.name=name\n",
    "#         self.age=age\n",
    "        \n",
    "    def draw(self,draw_obj=\"\"):\n",
    "         print(f\"Your {draw_obj} has been drawed\")"
   ]
  },
  {
   "cell_type": "code",
   "execution_count": 24,
   "metadata": {},
   "outputs": [],
   "source": [
    "artist_1=Artist(\"daniya\",20,3)"
   ]
  },
  {
   "cell_type": "code",
   "execution_count": 25,
   "metadata": {},
   "outputs": [
    {
     "data": {
      "text/plain": [
       "'daniya'"
      ]
     },
     "execution_count": 25,
     "metadata": {},
     "output_type": "execute_result"
    }
   ],
   "source": [
    "artist_1.name\n"
   ]
  },
  {
   "cell_type": "code",
   "execution_count": 26,
   "metadata": {},
   "outputs": [
    {
     "data": {
      "text/plain": [
       "20"
      ]
     },
     "execution_count": 26,
     "metadata": {},
     "output_type": "execute_result"
    }
   ],
   "source": [
    "artist_1.age"
   ]
  },
  {
   "cell_type": "code",
   "execution_count": 27,
   "metadata": {},
   "outputs": [
    {
     "data": {
      "text/plain": [
       "3"
      ]
     },
     "execution_count": 27,
     "metadata": {},
     "output_type": "execute_result"
    }
   ],
   "source": [
    "artist_1.level"
   ]
  },
  {
   "cell_type": "markdown",
   "metadata": {},
   "source": [
    "# Types of Inheritance\n",
    "- single\n",
    "- mutiple\n",
    "- multilevel\n",
    "- hierarchical"
   ]
  },
  {
   "cell_type": "markdown",
   "metadata": {},
   "source": [
    "##### MULTIPLE"
   ]
  },
  {
   "cell_type": "code",
   "execution_count": 28,
   "metadata": {},
   "outputs": [
    {
     "name": "stdout",
     "output_type": "stream",
     "text": [
      "Live long Pakistan ...\n"
     ]
    }
   ],
   "source": [
    "class Mother():  \n",
    "    \n",
    "    def __init__(self):\n",
    "        self.hair_color = \"brown\"\n",
    "        self.height = \"5.3 inch\"\n",
    "        \n",
    "    def speak(self, words = \"\"):\n",
    "        print(words, \"!!!\")\n",
    "        \n",
    "    def sleep(self, hours = 8):\n",
    "        print(hours)\n",
    "        \n",
    "        \n",
    "        \n",
    "        \n",
    "class Father(): \n",
    "    def __init__(self):\n",
    "        self.eye_color = \"black\"\n",
    "        self.voice = \"loud\"\n",
    "        \n",
    "    def speak(self, words = \"\"):\n",
    "        print(words, \"...\")\n",
    "        \n",
    "    def eat(self, food = \"chapati\"):\n",
    "        print(food)\n",
    "        \n",
    "        \n",
    "class child(Father, Mother): # it has all parent's attributes and features inherited\n",
    "    pass\n",
    "\n",
    "\n",
    "Child_obj=child()\n",
    "Child_obj.speak(\"Live long Pakistan\") # override as it takes from father attributes of speaking"
   ]
  },
  {
   "cell_type": "markdown",
   "metadata": {},
   "source": [
    "#### MULTILEVEL"
   ]
  },
  {
   "cell_type": "code",
   "execution_count": 39,
   "metadata": {},
   "outputs": [],
   "source": [
    "class Parent():  \n",
    "    \n",
    "    def __init__(self):\n",
    "        self.hair_color = \"brown\"\n",
    "        self.height = \"5.3 inch\"\n",
    "        \n",
    "    def speak(self, words = \"\"):\n",
    "        print(words, \"!!!\")\n",
    "        \n",
    "    def sleep(self, hours = 8):\n",
    "        print(hours)\n",
    "        \n",
    "        \n",
    "class child(Parent):\n",
    "    def childfunc(self):\n",
    "        print(\"I am child\")\n",
    "        \n",
    "class Grnd_child(child):\n",
    "    def Grnd_childfunc(self):\n",
    "        print(\"I am Grand child\")\n",
    "        \n",
    "grand_obj=Grnd_child()\n",
    "        "
   ]
  },
  {
   "cell_type": "code",
   "execution_count": 40,
   "metadata": {},
   "outputs": [
    {
     "name": "stdout",
     "output_type": "stream",
     "text": [
      "hi i am grand child calling parent function !!!\n"
     ]
    }
   ],
   "source": [
    "grand_obj.speak(\"hi i am grand child calling parent function\")"
   ]
  },
  {
   "cell_type": "code",
   "execution_count": 43,
   "metadata": {
    "scrolled": true
   },
   "outputs": [
    {
     "name": "stdout",
     "output_type": "stream",
     "text": [
      "I am child\n"
     ]
    }
   ],
   "source": [
    "grand_obj.childfunc()"
   ]
  },
  {
   "cell_type": "code",
   "execution_count": 44,
   "metadata": {},
   "outputs": [
    {
     "name": "stdout",
     "output_type": "stream",
     "text": [
      "I am Grand child\n"
     ]
    }
   ],
   "source": [
    "grand_obj.Grnd_childfunc()"
   ]
  },
  {
   "cell_type": "markdown",
   "metadata": {},
   "source": [
    "## Hierarchal"
   ]
  },
  {
   "cell_type": "code",
   "execution_count": 45,
   "metadata": {},
   "outputs": [],
   "source": [
    "class Parent():  \n",
    "    \n",
    "    def __init__(self):\n",
    "        self.hair_color = \"brown\"\n",
    "        self.height = \"5.3 inch\"\n",
    "        \n",
    "    def speak(self, words = \"\"):\n",
    "        print(words, \"!!!\")\n",
    "        \n",
    "    def sleep(self, hours = 8):\n",
    "        print(hours)\n",
    "        \n",
    "        \n",
    "class child1(Parent):\n",
    "    def childfunc(self):\n",
    "        print(\"I am child1\")\n",
    "        \n",
    "class child2(Parent):\n",
    "    def childfunc(self):\n",
    "        print(\"I am child2\")\n",
    "\n"
   ]
  },
  {
   "cell_type": "code",
   "execution_count": 47,
   "metadata": {},
   "outputs": [
    {
     "name": "stdout",
     "output_type": "stream",
     "text": [
      "8\n"
     ]
    }
   ],
   "source": [
    "child1_obj=child1()\n",
    "child1_obj.sleep()"
   ]
  },
  {
   "cell_type": "code",
   "execution_count": 48,
   "metadata": {},
   "outputs": [
    {
     "name": "stdout",
     "output_type": "stream",
     "text": [
      "8\n"
     ]
    }
   ],
   "source": [
    "child2_obj=child2()\n",
    "child2_obj.sleep()"
   ]
  },
  {
   "cell_type": "markdown",
   "metadata": {},
   "source": [
    "##### SUPER"
   ]
  },
  {
   "cell_type": "code",
   "execution_count": 49,
   "metadata": {},
   "outputs": [
    {
     "name": "stdout",
     "output_type": "stream",
     "text": [
      "this is func 1\n",
      "this is func 2\n"
     ]
    }
   ],
   "source": [
    "class parent:\n",
    "    def func1(self):\n",
    "        print(\"this is func 1\")\n",
    "        \n",
    "class child(parent):\n",
    "    def func2(Self):\n",
    "        super().func1()\n",
    "        print(\"this is func 2\")\n",
    "        \n",
    "obj=child()\n",
    "obj.func2()"
   ]
  },
  {
   "cell_type": "markdown",
   "metadata": {},
   "source": [
    "## Method Overriding\n",
    "- to change the functinality of parent function"
   ]
  },
  {
   "cell_type": "code",
   "execution_count": 50,
   "metadata": {},
   "outputs": [
    {
     "name": "stdout",
     "output_type": "stream",
     "text": [
      "this is func 1 override in child class\n"
     ]
    }
   ],
   "source": [
    "class parent:\n",
    "    def func1(self):\n",
    "        print(\"this is func 1\")\n",
    "        \n",
    "class child(parent):\n",
    "    def func1(Self):\n",
    "      \n",
    "        print(\"this is func 1 override in child class\")\n",
    "        \n",
    "obj=child()\n",
    "obj.func1()"
   ]
  },
  {
   "cell_type": "code",
   "execution_count": 52,
   "metadata": {},
   "outputs": [
    {
     "name": "stdout",
     "output_type": "stream",
     "text": [
      "this is func 1\n"
     ]
    }
   ],
   "source": [
    "objp=parent()\n",
    "objp.func1()"
   ]
  },
  {
   "cell_type": "markdown",
   "metadata": {},
   "source": [
    "# ENCAPSULATION\n",
    "- binding data and code together as a single unit\n",
    "- securing data by hinding the implementation details to user"
   ]
  },
  {
   "cell_type": "markdown",
   "metadata": {},
   "source": [
    "# ABSTRACTION\n",
    "- hides the implementation and only provides the functionality to the user\n",
    "- acheive abstraction using ABSTRACT CLASSES and INTERFACES"
   ]
  },
  {
   "cell_type": "markdown",
   "metadata": {},
   "source": [
    "##   ABSTRAC CLASS\n",
    "- Cannot be instantiated\n",
    "- it can only be inherited"
   ]
  },
  {
   "cell_type": "code",
   "execution_count": null,
   "metadata": {},
   "outputs": [],
   "source": []
  }
 ],
 "metadata": {
  "kernelspec": {
   "display_name": "Python 3",
   "language": "python",
   "name": "python3"
  },
  "language_info": {
   "codemirror_mode": {
    "name": "ipython",
    "version": 3
   },
   "file_extension": ".py",
   "mimetype": "text/x-python",
   "name": "python",
   "nbconvert_exporter": "python",
   "pygments_lexer": "ipython3",
   "version": "3.7.4"
  }
 },
 "nbformat": 4,
 "nbformat_minor": 2
}
