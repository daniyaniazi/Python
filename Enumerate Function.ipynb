{
 "cells": [
  {
   "cell_type": "markdown",
   "metadata": {},
   "source": [
    "# Enumerate\n",
    "- to track position of our item"
   ]
  },
  {
   "cell_type": "markdown",
   "metadata": {},
   "source": [
    "##### w/o enumerate"
   ]
  },
  {
   "cell_type": "code",
   "execution_count": 1,
   "metadata": {},
   "outputs": [
    {
     "name": "stdout",
     "output_type": "stream",
     "text": [
      "0 :  abc\n",
      "0 :  abcdef\n",
      "0 :  daniya\n"
     ]
    }
   ],
   "source": [
    "names=[\"abc\",\"abcdef\",\"daniya\"]\n",
    "pos=0\n",
    "for name in names:\n",
    "    print(f'{pos} :  {name}')"
   ]
  },
  {
   "cell_type": "markdown",
   "metadata": {},
   "source": [
    "##### with enumerate"
   ]
  },
  {
   "cell_type": "code",
   "execution_count": 2,
   "metadata": {},
   "outputs": [
    {
     "name": "stdout",
     "output_type": "stream",
     "text": [
      "0 :  abc\n",
      "1 :  abcdef\n",
      "2 :  daniya\n"
     ]
    }
   ],
   "source": [
    "for pos , name in enumerate(names):\n",
    "    print(f'{pos} :  {name}')"
   ]
  },
  {
   "cell_type": "markdown",
   "metadata": {},
   "source": [
    "### Task"
   ]
  },
  {
   "cell_type": "raw",
   "metadata": {},
   "source": [
    "Define fun take list containing strings and a string as argumengt and return index of given string if its is present is list of strings"
   ]
  },
  {
   "cell_type": "code",
   "execution_count": 3,
   "metadata": {},
   "outputs": [
    {
     "data": {
      "text/plain": [
       "2"
      ]
     },
     "execution_count": 3,
     "metadata": {},
     "output_type": "execute_result"
    }
   ],
   "source": [
    "def find_pos(list,target_string):\n",
    "    for pos,name in enumerate(list):\n",
    "        if name==target_string:\n",
    "            return pos\n",
    "    \n",
    "    return -1\n",
    "\n",
    "find_pos(names,\"daniya\")"
   ]
  },
  {
   "cell_type": "code",
   "execution_count": null,
   "metadata": {},
   "outputs": [],
   "source": []
  }
 ],
 "metadata": {
  "kernelspec": {
   "display_name": "Python 3",
   "language": "python",
   "name": "python3"
  },
  "language_info": {
   "codemirror_mode": {
    "name": "ipython",
    "version": 3
   },
   "file_extension": ".py",
   "mimetype": "text/x-python",
   "name": "python",
   "nbconvert_exporter": "python",
   "pygments_lexer": "ipython3",
   "version": "3.7.4"
  }
 },
 "nbformat": 4,
 "nbformat_minor": 2
}
