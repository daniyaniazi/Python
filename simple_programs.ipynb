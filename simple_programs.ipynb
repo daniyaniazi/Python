{
 "cells": [
  {
   "cell_type": "code",
   "execution_count": 1,
   "metadata": {},
   "outputs": [
    {
     "name": "stdout",
     "output_type": "stream",
     "text": [
      "Name: daniya\n",
      "Father Name: abdullah\n",
      "Number: 030950543939\n",
      "Continue? y\n",
      "Name: fareeha\n",
      "Father Name: abdullah\n",
      "Number: 983849\n",
      "Continue? n\n",
      "['daniya', 'fareeha']\n",
      "['abdullah', 'abdullah']\n",
      "['030950543939', '983849']\n"
     ]
    }
   ],
   "source": [
    "#Perform a task where you take multiple input from user about name, fname, contact number and \n",
    "#continue adding data to list as long as they want to continue\n",
    "name=[]\n",
    "fname=[]\n",
    "number=[]\n",
    "more=\"y\"\n",
    "while more == \"y\":\n",
    "    name1= input(\"Name: \")\n",
    "    fname1=input(\"Father Name: \")\n",
    "    number1=input(\"Number: \")\n",
    "    name.append(name1)\n",
    "    fname.append(fname1)\n",
    "    number.append(number1)\n",
    "    \n",
    "    more=input(\"Continue? \")\n",
    "   \n",
    "    \n",
    "print(name)\n",
    "print(fname)\n",
    "print(number)"
   ]
  },
  {
   "cell_type": "code",
   "execution_count": 2,
   "metadata": {},
   "outputs": [
    {
     "name": "stdout",
     "output_type": "stream",
     "text": [
      "1000\n",
      "999\n",
      "998\n",
      "997\n",
      "996\n",
      "995\n",
      "994\n",
      "993\n",
      "992\n",
      "991\n",
      "990\n"
     ]
    }
   ],
   "source": [
    "#Perform a task to print numbers from 990 to 1000 in descending order using for loop\n",
    "for i in range(1000,989,-1):\n",
    "    print(i)\n",
    "    "
   ]
  },
  {
   "cell_type": "code",
   "execution_count": 3,
   "metadata": {},
   "outputs": [
    {
     "name": "stdout",
     "output_type": "stream",
     "text": [
      "1000\n",
      "999\n",
      "998\n",
      "997\n",
      "996\n",
      "995\n",
      "994\n",
      "993\n",
      "992\n",
      "991\n",
      "990\n"
     ]
    }
   ],
   "source": [
    "#Perform a task to print numbers from 990 to 1000 in descending order using while loop\n",
    "counter = 1000\n",
    "while counter>= 990: #counter<= 10 returns true or false\n",
    "    print(counter)\n",
    "    counter-=1 # decrement"
   ]
  },
  {
   "cell_type": "code",
   "execution_count": 4,
   "metadata": {},
   "outputs": [
    {
     "name": "stdout",
     "output_type": "stream",
     "text": [
      "A   a   0\n",
      "B   b   1\n",
      "C   c   2\n",
      "D   d   3\n",
      "E   e   4\n",
      "F   f   5\n",
      "G   g   6\n",
      "H   h   7\n",
      "I   i   8\n",
      "J   j   9\n",
      "K   k   :\n",
      "L   l   ;\n",
      "M   m   <\n",
      "N   n   =\n",
      "O   o   >\n",
      "P   p   ?\n",
      "Q   q   @\n",
      "R   r   A\n",
      "S   s   B\n",
      "T   t   C\n",
      "U   u   D\n",
      "V   v   E\n",
      "W   w   F\n",
      "X   x   G\n",
      "Y   y   H\n",
      "Z   z   I\n"
     ]
    }
   ],
   "source": [
    "# Perform a task to print ascii codes of following asii code 65-90, 97-122, 47-72 and display in format as \n",
    "# A   a  0\n",
    "# B   b  1 .....\n",
    "for i in range(65,91,1):\n",
    "    print(chr(i), \" \", chr(i+32), \" \", chr(i-17))\n",
    "    "
   ]
  },
  {
   "cell_type": "code",
   "execution_count": 5,
   "metadata": {},
   "outputs": [
    {
     "name": "stdout",
     "output_type": "stream",
     "text": [
      "Table upto: 5\n",
      "1 X 1 = 1\t2 X 1 = 2\t3 X 1 = 3\t4 X 1 = 4\t5 X 1 = 5\t\n",
      "1 X 2 = 2\t2 X 2 = 4\t3 X 2 = 6\t4 X 2 = 8\t5 X 2 = 10\t\n",
      "1 X 3 = 3\t2 X 3 = 6\t3 X 3 = 9\t4 X 3 = 12\t5 X 3 = 15\t\n",
      "1 X 4 = 4\t2 X 4 = 8\t3 X 4 = 12\t4 X 4 = 16\t5 X 4 = 20\t\n",
      "1 X 5 = 5\t2 X 5 = 10\t3 X 5 = 15\t4 X 5 = 20\t5 X 5 = 25\t\n",
      "1 X 6 = 6\t2 X 6 = 12\t3 X 6 = 18\t4 X 6 = 24\t5 X 6 = 30\t\n",
      "1 X 7 = 7\t2 X 7 = 14\t3 X 7 = 21\t4 X 7 = 28\t5 X 7 = 35\t\n",
      "1 X 8 = 8\t2 X 8 = 16\t3 X 8 = 24\t4 X 8 = 32\t5 X 8 = 40\t\n",
      "1 X 9 = 9\t2 X 9 = 18\t3 X 9 = 27\t4 X 9 = 36\t5 X 9 = 45\t\n",
      "1 X 10 = 10\t2 X 10 = 20\t3 X 10 = 30\t4 X 10 = 40\t5 X 10 = 50\t\n"
     ]
    }
   ],
   "source": [
    "#Perform a task to take input number from user to print tables upto that number following format e.g. user typed 3\n",
    "#1 X 1 = 1\t2 X 1 = 2\t3 X 1 = 3\n",
    "#1 X 2 = 2\t2 X 2 = 4\t3 X 2 = 6.....\n",
    "tab = int(input(\"Table upto: \"))\n",
    "for i in range(1,11):\n",
    "    for j in range(1,tab+1): \n",
    "        print(j, 'X', i, \"=\", j*i, end='\\t')\n",
    "    print(end='\\n')"
   ]
  },
  {
   "cell_type": "code",
   "execution_count": 6,
   "metadata": {},
   "outputs": [
    {
     "name": "stdout",
     "output_type": "stream",
     "text": [
      "(0, 1, 5) (0, 2, 0) \n",
      "(1, 2, 10) \n",
      "(2, 0, 20) (2, 1, 30) \n",
      "(3, 0, 35) (3, 2, 20) \n"
     ]
    }
   ],
   "source": [
    "# Perform a task that from a matrix if elements are divisible by 5 return row and column number\n",
    "l= [[2,5,0], \\\n",
    "    [8,9,10],\\\n",
    "    [20,30,27], \\\n",
    "    [35,9,20]]\n",
    "# enumerate is used to get loc\n",
    "for ri,r in enumerate(l):\n",
    "    for ci,c in enumerate(r):\n",
    "        if c%5 == 0:\n",
    "            print((ri,ci,c), end=\" \")\n",
    "    print()"
   ]
  },
  {
   "cell_type": "code",
   "execution_count": 7,
   "metadata": {},
   "outputs": [
    {
     "name": "stdout",
     "output_type": "stream",
     "text": [
      "5\t7\t10\t14\t15\t20\t21\t25\t28\t30\t35\t40\t42\t45\t49\t50\t55\t56\t60\t63\t65\t70\t75\t77\t80\t84\t85\t90\t91\t95\t98\t100\t105\t110\t112\t115\t119\t120\t125\t126\t130\t133\t135\t140\t145\t147\t150\t154\t155\t160\t161\t165\t168\t170\t175\t180\t182\t185\t189\t190\t195\t196\t200\t203\t205\t210\t215\t217\t220\t224\t225\t230\t231\t235\t238\t240\t245\t250\t252\t255\t259\t260\t265\t266\t270\t273\t275\t280\t285\t287\t290\t294\t295\t300\t301\t305\t308\t310\t315\t320\t322\t325\t329\t330\t335\t336\t340\t343\t345\t350\t355\t357\t360\t364\t365\t370\t371\t375\t378\t380\t385\t390\t392\t395\t399\t400\t405\t406\t410\t413\t415\t420\t425\t427\t430\t434\t435\t440\t441\t445\t448\t450\t455\t460\t462\t465\t469\t470\t475\t476\t480\t483\t485\t490\t495\t497\t500\t504\t505\t510\t511\t515\t518\t520\t525\t530\t532\t535\t539\t540\t545\t546\t550\t553\t555\t560\t565\t567\t570\t574\t575\t580\t581\t585\t588\t590\t595\t600\t602\t605\t609\t610\t615\t616\t620\t623\t625\t630\t635\t637\t640\t644\t645\t650\t651\t655\t658\t660\t665\t670\t672\t675\t679\t680\t685\t686\t690\t693\t695\t700\t705\t707\t710\t714\t715\t720\t721\t725\t728\t730\t735\t740\t742\t745\t749\t750\t755\t756\t760\t763\t765\t770\t775\t777\t780\t784\t785\t790\t791\t795\t798\t800\t805\t810\t812\t815\t819\t820\t825\t826\t830\t833\t835\t840\t845\t847\t850\t854\t855\t860\t861\t865\t868\t870\t875\t880\t882\t885\t889\t890\t895\t896\t900\t903\t905\t910\t915\t917\t920\t924\t925\t930\t931\t935\t938\t940\t945\t950\t952\t955\t959\t960\t965\t966\t970\t973\t975\t980\t985\t987\t990\t994\t995\t1000\t"
     ]
    }
   ],
   "source": [
    "# Perform a task to print number divisible by 5,7, 20 in range 1-1000\n",
    "for i in range(1, 1001):   \n",
    "    if (i%5 == 0) or (i%7 == 0) or (i%20 == 0):\n",
    "        print(i, end='\\t')\n",
    "        "
   ]
  },
  {
   "cell_type": "code",
   "execution_count": null,
   "metadata": {},
   "outputs": [],
   "source": []
  }
 ],
 "metadata": {
  "kernelspec": {
   "display_name": "Python 3",
   "language": "python",
   "name": "python3"
  },
  "language_info": {
   "codemirror_mode": {
    "name": "ipython",
    "version": 3
   },
   "file_extension": ".py",
   "mimetype": "text/x-python",
   "name": "python",
   "nbconvert_exporter": "python",
   "pygments_lexer": "ipython3",
   "version": "3.7.4"
  }
 },
 "nbformat": 4,
 "nbformat_minor": 2
}
