{
 "cells": [
  {
   "cell_type": "markdown",
   "metadata": {},
   "source": [
    "# While loop\n"
   ]
  },
  {
   "cell_type": "code",
   "execution_count": 1,
   "metadata": {
    "scrolled": true
   },
   "outputs": [
    {
     "name": "stdout",
     "output_type": "stream",
     "text": [
      "number 0\n",
      "number 1\n",
      "number 2\n",
      "number 3\n",
      "number 4\n",
      "number 5\n",
      "number 6\n",
      "number 7\n",
      "number 8\n",
      "good bye\n"
     ]
    }
   ],
   "source": [
    "count=0\n",
    "while count<9: #dont know the number of iteration\n",
    "    print (\"number\" ,count)\n",
    "    count=count+1\n",
    "print(\"good bye\")"
   ]
  },
  {
   "cell_type": "code",
   "execution_count": 4,
   "metadata": {
    "scrolled": true
   },
   "outputs": [
    {
     "name": "stdout",
     "output_type": "stream",
     "text": [
      "New number : 4\n",
      "nuber is too large \n",
      "New number : 2\n",
      "nuber is too small \n",
      "New number : 3\n",
      "congrats you made it\n"
     ]
    }
   ],
   "source": [
    "#a little guessing game\n",
    "import random \n",
    "n=2\n",
    "to_be_guessed= int(n+ random.random())+1\n",
    "guess=0\n",
    "while guess!= to_be_guessed:\n",
    "    guess= int(input(\"New number : \"))\n",
    "    if guess>0:\n",
    "        if guess>to_be_guessed:\n",
    "            print(\"nuber is too large \")\n",
    "        elif guess< to_be_guessed:\n",
    "            print(\"nuber is too small \")\n",
    "    else :\n",
    "        print(\"sorry that you are giving up!\")\n",
    "        break\n",
    "else :\n",
    "    print(\"congrats you made it\")\n",
    "        "
   ]
  },
  {
   "cell_type": "markdown",
   "metadata": {},
   "source": [
    "#  For loop\n",
    "factorial find\n"
   ]
  },
  {
   "cell_type": "code",
   "execution_count": 7,
   "metadata": {},
   "outputs": [
    {
     "name": "stdout",
     "output_type": "stream",
     "text": [
      "NUMBER :5\n",
      "120\n"
     ]
    }
   ],
   "source": [
    "num= int(input(\"NUMBER :\"))\n",
    "factorial=1\n",
    "if num<0:\n",
    "    print(\"num must be positive\")\n",
    "elif num == 0:\n",
    "    print(\"factorial =1\")\n",
    "else :\n",
    "    for i in range(1, num+1):\n",
    "        factorial=factorial*i\n",
    "print(factorial)"
   ]
  },
  {
   "cell_type": "markdown",
   "metadata": {},
   "source": [
    "#### PYTHAGOREAN NUMBERS\n"
   ]
  },
  {
   "cell_type": "code",
   "execution_count": 9,
   "metadata": {},
   "outputs": [
    {
     "name": "stdout",
     "output_type": "stream",
     "text": [
      "Maximal Number ? 5\n",
      "3 4 5\n"
     ]
    }
   ],
   "source": [
    "from math import sqrt\n",
    "n= int(input(\"Maximal Number ? \"))\n",
    "for a in range (1,n+1):\n",
    "    for b in range(a,n):\n",
    "        c_square= a**2 + b**2\n",
    "        c= int(sqrt(c_square))\n",
    "        if ((c_square - c**2)==0):\n",
    "            print(a,b,c)"
   ]
  },
  {
   "cell_type": "markdown",
   "metadata": {},
   "source": [
    "### Travelling  data entering system "
   ]
  },
  {
   "cell_type": "code",
   "execution_count": null,
   "metadata": {},
   "outputs": [],
   "source": [
    "travelling = input(\"Are you travelling yes or no \")\n",
    "while travelling == \"yes\"|\"y\":\n",
    "    num= int(input(\" ENTER NO OF PEOPLE TRAVELLING \"))\n",
    "    for num in  range (1,num+1):\n",
    "        name=input(\"NAME :\")\n",
    "        age = input(\"AGE :\")\n",
    "        sex= input (\"MALE OR FEMALE :\" )\n",
    "        print(name, \"/n\", age ,\"/n\",sex ,\"/n\")\n",
    "    travelling = input(\"FORGOT SOMEONE YES OR NO?\")\n",
    "    "
   ]
  },
  {
   "cell_type": "code",
   "execution_count": null,
   "metadata": {},
   "outputs": [],
   "source": []
  },
  {
   "cell_type": "code",
   "execution_count": null,
   "metadata": {},
   "outputs": [],
   "source": []
  }
 ],
 "metadata": {
  "kernelspec": {
   "display_name": "Python 3",
   "language": "python",
   "name": "python3"
  },
  "language_info": {
   "codemirror_mode": {
    "name": "ipython",
    "version": 3
   },
   "file_extension": ".py",
   "mimetype": "text/x-python",
   "name": "python",
   "nbconvert_exporter": "python",
   "pygments_lexer": "ipython3",
   "version": "3.7.4"
  }
 },
 "nbformat": 4,
 "nbformat_minor": 2
}
