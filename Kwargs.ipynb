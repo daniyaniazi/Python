{
 "cells": [
  {
   "cell_type": "markdown",
   "metadata": {},
   "source": [
    "# Kwargs"
   ]
  },
  {
   "cell_type": "code",
   "execution_count": 4,
   "metadata": {},
   "outputs": [
    {
     "name": "stdout",
     "output_type": "stream",
     "text": [
      "{'first_name': 'Daniya', 'Age': 20}\n",
      "<class 'dict'>\n"
     ]
    }
   ],
   "source": [
    "def func(**kwargs):\n",
    "    print(kwargs)\n",
    "    print(type(kwargs))\n",
    "    \n",
    "    \n",
    "func(  first_name=\"Daniya\",\n",
    "        Age=20\n",
    "    )"
   ]
  },
  {
   "cell_type": "code",
   "execution_count": 7,
   "metadata": {},
   "outputs": [
    {
     "name": "stdout",
     "output_type": "stream",
     "text": [
      "first_name : Daniya\n",
      "Age : 20\n"
     ]
    }
   ],
   "source": [
    "def func(**kwargs):\n",
    "    for k,v in kwargs.items():\n",
    "        print(f\"{k} : {v}\")\n",
    "    \n",
    "    \n",
    "    \n",
    "dic= {\"first_name\":\"Daniya\",\n",
    "        \"Age\":20 }  \n",
    "\n",
    "#unpacking\n",
    "func(**dic )"
   ]
  },
  {
   "cell_type": "markdown",
   "metadata": {},
   "source": [
    "# PADK \n",
    "ORDER:\n",
    "- Parameter\n",
    "- args\n",
    "- default parameters\n",
    "- kwargs"
   ]
  },
  {
   "cell_type": "code",
   "execution_count": 8,
   "metadata": {},
   "outputs": [
    {
     "name": "stdout",
     "output_type": "stream",
     "text": [
      "daniya\n",
      "(1, 2, 3)\n",
      "unknown\n",
      "{'a': 1, 'b': 3}\n"
     ]
    }
   ],
   "source": [
    "def fun( name ,*args , last_name=\"unknown\" ,**kwargs):\n",
    "    print(name)\n",
    "    print(args)\n",
    "    print(last_name)\n",
    "    print(kwargs)\n",
    "    \n",
    "    \n",
    "    \n",
    "fun(\"daniya\" ,1,2,3 , a=1,b=3)"
   ]
  },
  {
   "cell_type": "code",
   "execution_count": null,
   "metadata": {},
   "outputs": [],
   "source": []
  }
 ],
 "metadata": {
  "kernelspec": {
   "display_name": "Python 3",
   "language": "python",
   "name": "python3"
  },
  "language_info": {
   "codemirror_mode": {
    "name": "ipython",
    "version": 3
   },
   "file_extension": ".py",
   "mimetype": "text/x-python",
   "name": "python",
   "nbconvert_exporter": "python",
   "pygments_lexer": "ipython3",
   "version": "3.7.4"
  }
 },
 "nbformat": 4,
 "nbformat_minor": 2
}
