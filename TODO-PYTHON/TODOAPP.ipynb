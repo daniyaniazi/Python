{
 "cells": [
  {
   "cell_type": "markdown",
   "metadata": {},
   "source": [
    "# WITH ARRAY AND LOOP\n"
   ]
  },
  {
   "cell_type": "code",
   "execution_count": null,
   "metadata": {},
   "outputs": [],
   "source": [
    "elements =[]\n",
    "\n",
    "while True :\n",
    "    print(\"Elements in our list :\")\n",
    "    for element in elements :\n",
    "        print(\"-->\"+ element)\n",
    "        \n",
    "        \n",
    "    print(\"\\n Options :\")\n",
    "    print(\"1. Add Elements\")\n",
    "    print(\"2. Delete Elements\")\n",
    "    print(\"3. Delete All Elements\")\n",
    "    print(\"4. Exit\")\n",
    "    print(\" Note : please give input in 1,2,3,4 format\")\n",
    "    \n",
    "    choice = input(\"Enter your choice :\")\n",
    "    \n",
    "    \n",
    "    if choice==\"1\":\n",
    "        elements.append(input(\"Enter your elements :\"))\n",
    "    elif choice==\"2\":\n",
    "        elements.remove(input(\"Enter elements to delete:\"))\n",
    "    elif choice==\"3\":\n",
    "         elements.clear()\n",
    "    elif choice==\"4\":\n",
    "        break\n",
    "    else:\n",
    "        print(\"INVALID STATEMENT\")\n",
    "        \n",
    "    print (\"\\nxxxxxxxxxxxxxxxxxxxxxxxxxxxxxxxxxxxxxxxxxxxxxxxxxxxxxxxxxxxxxxx\\n\")    \n",
    "    "
   ]
  },
  {
   "cell_type": "markdown",
   "metadata": {},
   "source": [
    "# DICTIONARIES & FUNCTIONS\n"
   ]
  },
  {
   "cell_type": "code",
   "execution_count": null,
   "metadata": {},
   "outputs": [],
   "source": [
    "# main menu\n",
    "#add task\n",
    "#view task\n",
    "# delete task\n",
    "#terminate app"
   ]
  },
  {
   "cell_type": "code",
   "execution_count": null,
   "metadata": {},
   "outputs": [],
   "source": [
    "main= {\n",
    "    1: \"Add Task\",\n",
    "    2: \"View Task\",\n",
    "    3: \"Delete Task\",\n",
    "    4 : \"Terminate App\"  \n",
    "}\n",
    "\n",
    "taskDic={}\n"
   ]
  },
  {
   "cell_type": "code",
   "execution_count": null,
   "metadata": {},
   "outputs": [],
   "source": [
    "def mainMenu(main):\n",
    "    print(\"---------------------------------\\n            MAIN MENU            \\n---------------------------------\\n\")\n",
    "    for menukey, menuval in main.items():\n",
    "        print( \"{}. {}\".format(menukey,menuval))\n",
    "    print(\"\\n********************************** \\n\")\n",
    "        \n",
    "# mainMenu(main)\n",
    "\n",
    "\n",
    "def addTask(taskDic):\n",
    "    print(\"---------------------------------\\n            ADDING TASK            \\n---------------------------------\\n\")\n",
    "    taskIndex = len(taskDic) +1\n",
    "    taskName= input(\"Task #{} : \".format(taskIndex))\n",
    "    taskDic.update({taskIndex : taskName})\n",
    "    print(\"Task #{} -- Successfully Added \\n\".format(taskIndex))\n",
    "    \n",
    "    \n",
    "def viewTask(taskDic):\n",
    "    print(\"---------------------------------\\n            VIEWING TASK            \\n---------------------------------\\n\")\n",
    "    if len(taskDic)>0:\n",
    "        for taskkey, taskval in taskDic.items():\n",
    "            print( \"Task # {} : {} \\n\".format(taskkey,taskval))\n",
    "    else:\n",
    "        print( \"No Task Found \\n\")\n",
    "  \n",
    "\n",
    "\n",
    "        \n",
    "        \n",
    "def delTask(taskDic):\n",
    "    print(\"---------------------------------\\n            DELETING TASK            \\n---------------------------------\\n\")\n",
    "    if len(taskDic)>0:\n",
    "        for taskkey, taskval in taskDic.items():\n",
    "            print( \"Task # {} : {} \\n\".format(taskkey,taskval))\n",
    "        delTaskInd=int(input(\" Which Task You want to remove \"))\n",
    "        if delTaskInd in taskDic.keys():\n",
    "            taskDic.pop(delTaskInd)\n",
    "            print(\"Task #{} -- Successfully Deleted \\n\".format(delTaskInd))\n",
    "        else:\n",
    "             print( \"No Such Index \\n\")      \n",
    "    else:\n",
    "        print( \"No Task Found \\n\")\n"
   ]
  },
  {
   "cell_type": "code",
   "execution_count": null,
   "metadata": {},
   "outputs": [],
   "source": [
    "def askCommand():\n",
    "    userCommand = input(\"Enter your choice :\")\n",
    "    return userCommand"
   ]
  },
  {
   "cell_type": "code",
   "execution_count": null,
   "metadata": {},
   "outputs": [],
   "source": [
    "def isInteger(userchoice):\n",
    "    try :\n",
    "        int(userChoice)\n",
    "        return True\n",
    "    except ValueError:\n",
    "        return False\n",
    "\n",
    "def runCommand(userChoice):\n",
    "    if isInteger(userChoice):\n",
    "        userChoice=int(userChoice)\n",
    "        if userChoice > 0 and userChoice <=4 :\n",
    "#             print(\"\\n\\n~~~~~ACCEPTED~~~~~\")\n",
    "            if userChoice==1:\n",
    "                addTask(taskDic)\n",
    "            if userChoice==2:\n",
    "                viewTask(taskDic)\n",
    "            if userChoice==3:\n",
    "                delTask(taskDic)\n",
    "            if userChoice==4:\n",
    "                print(\"\\n\\n~~~~~PROGRAM TERMINATED~~~~~\"1)\n",
    "                break\n",
    "#              print(\"\\n\\n~~~~~ACCEPTED~~~~~\"1)\n",
    "        else :\n",
    "            print(\"!!!!!!  TRY VALID COMMNAD !!!!!!\\n\\n\")\n",
    "    else:\n",
    "        print(\"!!!!!! TRY INTEGER !!!!!! \\n\\n\")\n",
    "    "
   ]
  },
  {
   "cell_type": "code",
   "execution_count": null,
   "metadata": {},
   "outputs": [],
   "source": [
    "while (True):\n",
    "    mainMenu(main)\n",
    "    userChoice=askCommand()\n",
    "    runCommand(userChoice)"
   ]
  },
  {
   "cell_type": "code",
   "execution_count": null,
   "metadata": {},
   "outputs": [],
   "source": []
  }
 ],
 "metadata": {
  "kernelspec": {
   "display_name": "Python 3",
   "language": "python",
   "name": "python3"
  },
  "language_info": {
   "codemirror_mode": {
    "name": "ipython",
    "version": 3
   },
   "file_extension": ".py",
   "mimetype": "text/x-python",
   "name": "python",
   "nbconvert_exporter": "python",
   "pygments_lexer": "ipython3",
   "version": "3.7.4"
  }
 },
 "nbformat": 4,
 "nbformat_minor": 2
}
